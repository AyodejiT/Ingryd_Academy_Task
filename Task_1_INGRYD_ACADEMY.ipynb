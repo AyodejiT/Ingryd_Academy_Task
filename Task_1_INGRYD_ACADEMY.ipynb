{
 "cells": [
  {
   "cell_type": "code",
   "execution_count": 5,
   "id": "242e7f63",
   "metadata": {},
   "outputs": [
    {
     "name": "stdout",
     "output_type": "stream",
     "text": [
      "[31, 30, 29, 42, 41, 36, 37, 39, 32, 33, 38, 35, 40]\n"
     ]
    }
   ],
   "source": [
    "# temp_list = list(range(30, 40))\n",
    "temp_list = [31,30,29,42,41,36,37,39,32,33,38,35,40]\n",
    "print(temp_list)"
   ]
  },
  {
   "cell_type": "code",
   "execution_count": 6,
   "id": "467dc97f",
   "metadata": {},
   "outputs": [
    {
     "name": "stdout",
     "output_type": "stream",
     "text": [
      "The mean of the temperature list is: 35.6\n"
     ]
    }
   ],
   "source": [
    "# mean\n",
    "\n",
    "temp_mean = sum(temp_list)/len(temp_list)\n",
    "print(f'The mean of the temperature list is: {temp_mean:.1f}')"
   ]
  },
  {
   "cell_type": "code",
   "execution_count": 14,
   "id": "d5ca0c23",
   "metadata": {},
   "outputs": [
    {
     "name": "stdout",
     "output_type": "stream",
     "text": [
      "The median of the temperature list is: 36.0\n"
     ]
    }
   ],
   "source": [
    "# median\n",
    "\n",
    "sorted_temp = sorted(temp_list)\n",
    "sorted_temp_len = len(sorted_temp)\n",
    "\n",
    "# getting the median for both even and odd cases\n",
    "if sorted_temp_len % 2 == 1:\n",
    "    median = sorted_temp[sorted_temp_len//2]\n",
    "    print(f'The median of the temperature list is: {median:.1f}')\n",
    "else: \n",
    "    median_1 = sorted_temp[(sorted_temp_len-1) // 2]\n",
    "    median_2 = sorted_temp[sorted_temp_len // 2]\n",
    "    median = (median_1 + median_2) / 2\n",
    "    \n",
    "    print(f'The median of the temperature list is: {median:.1f}')\n"
   ]
  },
  {
   "cell_type": "code",
   "execution_count": 17,
   "id": "96cf2644",
   "metadata": {},
   "outputs": [
    {
     "name": "stdout",
     "output_type": "stream",
     "text": [
      "The mode of the temperature list is: [31, 30, 29, 42, 41, 36, 37, 39, 32, 33, 38, 35, 40]\n"
     ]
    }
   ],
   "source": [
    "# mode \n",
    "\n",
    "frequency_dict = {}  # Create a dictionary to store the frequency of each number\n",
    "\n",
    "# Count the frequency of each number\n",
    "\n",
    "for num in temp_list:\n",
    "    if num in frequency_dict:\n",
    "        frequency_dict[num] += 1\n",
    "        \n",
    "    else:\n",
    "        frequency_dict[num] = 1\n",
    "        \n",
    "\n",
    "# Find the number(s) with the highest frequency (mode)\n",
    "max_frequency = max(frequency_dict.values())\n",
    "mode = [num for num, freq in frequency_dict.items() if freq == max_frequency]\n",
    "\n",
    "print(f'The mode of the temperature list is: {mode}')"
   ]
  },
  {
   "cell_type": "code",
   "execution_count": 16,
   "id": "a44db4ea",
   "metadata": {},
   "outputs": [
    {
     "name": "stdout",
     "output_type": "stream",
     "text": [
      "The range of the temperature list is: 13\n"
     ]
    }
   ],
   "source": [
    "# range\n",
    "\n",
    "temp_range = max(temp_list) - min(temp_list)\n",
    "print(f'The range of the temperature list is: {temp_range}')"
   ]
  },
  {
   "cell_type": "code",
   "execution_count": 11,
   "id": "e8c176c9",
   "metadata": {},
   "outputs": [
    {
     "name": "stdout",
     "output_type": "stream",
     "text": [
      "The range of the temperature list is: 13\n"
     ]
    }
   ],
   "source": [
    "# variance\n",
    "\n",
    "# Calculate the squared differences from the mean\n",
    "squared_diff = [(x - temp_mean)**2 for x in temp_list]\n",
    "\n",
    "variance = sum(squared_diff) / len(temp_list)\n",
    "print(f'The range of the temperature list is: {temp_range}')"
   ]
  },
  {
   "cell_type": "code",
   "execution_count": 12,
   "id": "ea82b15c",
   "metadata": {},
   "outputs": [
    {
     "name": "stdout",
     "output_type": "stream",
     "text": [
      "The range of the temperature list is: 4.160962565014929\n"
     ]
    }
   ],
   "source": [
    "# standard deviation\n",
    "\n",
    "# since standard deviation if the square root of variance\n",
    "s_variance = variance ** 0.5\n",
    "print(f'The range of the temperature list is: {s_variance}')"
   ]
  },
  {
   "cell_type": "code",
   "execution_count": 13,
   "id": "a336b70d",
   "metadata": {},
   "outputs": [
    {
     "name": "stdout",
     "output_type": "stream",
     "text": [
      "The range of the temperature list is: 3.6449704142011834\n"
     ]
    }
   ],
   "source": [
    "# mean deviation\n",
    "\n",
    "# Calculate the absolute differences from the mean\n",
    "abs_diff = [abs(x - temp_mean) for x in temp_list]\n",
    "\n",
    "mean_deviation = sum(abs_diff) / sorted_temp_len\n",
    "\n",
    "print(f'The range of the temperature list is: {mean_deviation}')"
   ]
  },
  {
   "cell_type": "code",
   "execution_count": null,
   "id": "d7a2398a",
   "metadata": {},
   "outputs": [],
   "source": []
  }
 ],
 "metadata": {
  "kernelspec": {
   "display_name": "Python 3 (ipykernel)",
   "language": "python",
   "name": "python3"
  },
  "language_info": {
   "codemirror_mode": {
    "name": "ipython",
    "version": 3
   },
   "file_extension": ".py",
   "mimetype": "text/x-python",
   "name": "python",
   "nbconvert_exporter": "python",
   "pygments_lexer": "ipython3",
   "version": "3.11.3"
  }
 },
 "nbformat": 4,
 "nbformat_minor": 5
}
